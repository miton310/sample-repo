{
 "cells": [
  {
   "cell_type": "markdown",
   "metadata": {},
   "source": [
    "## is演算子：　同じオブジェクトかどうか判定する"
   ]
  },
  {
   "cell_type": "code",
   "execution_count": 5,
   "metadata": {},
   "outputs": [
    {
     "name": "stdout",
     "output_type": "stream",
     "text": [
      "True\n",
      "True\n"
     ]
    }
   ],
   "source": [
    "a = 1\n",
    "b = 2\n",
    "e = 2 -1\n",
    "\n",
    "print(a is not b)\n",
    "print(a is e)"
   ]
  },
  {
   "cell_type": "code",
   "execution_count": 3,
   "metadata": {},
   "outputs": [
    {
     "name": "stdout",
     "output_type": "stream",
     "text": [
      "True\n"
     ]
    }
   ],
   "source": [
    "hello = \"hello\"\n",
    "hello2 = \"h\" + \"e\" + \"l\" + \"l\" + \"o\"\n",
    "print(hello is hello2)"
   ]
  },
  {
   "cell_type": "code",
   "execution_count": 4,
   "metadata": {},
   "outputs": [
    {
     "name": "stdout",
     "output_type": "stream",
     "text": [
      "False\n"
     ]
    }
   ],
   "source": [
    "hello = \"konnichiwa\"\n",
    "print(hello is hello2)"
   ]
  },
  {
   "cell_type": "markdown",
   "metadata": {},
   "source": [
    "### None　かどうか判定によく使う"
   ]
  },
  {
   "cell_type": "code",
   "execution_count": 9,
   "metadata": {},
   "outputs": [
    {
     "name": "stdout",
     "output_type": "stream",
     "text": [
      "True\n",
      "94283317047152\n",
      "94283317047152\n"
     ]
    }
   ],
   "source": [
    "nothing = None\n",
    "print(nothing is None)\n",
    "print(id(nothing))\n",
    "print(id(None))"
   ]
  },
  {
   "cell_type": "markdown",
   "metadata": {},
   "source": [
    "## 論理演算子（logical operator）"
   ]
  },
  {
   "cell_type": "code",
   "execution_count": 13,
   "metadata": {},
   "outputs": [
    {
     "name": "stdout",
     "output_type": "stream",
     "text": [
      "True\n",
      "True\n"
     ]
    }
   ],
   "source": [
    "# and, or, or not\n",
    "a = 1\n",
    "b = 1\n",
    "c = 100\n",
    "d = 100\n",
    "print(a == b and c > d)  # False\n",
    "print(a == b or c > d)   # True\n"
   ]
  },
  {
   "cell_type": "code",
   "execution_count": 25,
   "metadata": {},
   "outputs": [
    {
     "name": "stdout",
     "output_type": "stream",
     "text": [
      "False\n"
     ]
    }
   ],
   "source": [
    "age = 9\n",
    "height = 110\n",
    "if age >= 10 and height >= 110:\n",
    "    print(True)\n",
    "else:\n",
    "    print(False)"
   ]
  },
  {
   "cell_type": "code",
   "execution_count": 31,
   "metadata": {},
   "outputs": [
    {
     "name": "stdout",
     "output_type": "stream",
     "text": [
      "False\n"
     ]
    }
   ],
   "source": [
    "master = False\n",
    "job_experience = 4\n",
    "if master or job_experience >= 5:\n",
    "    a = True\n",
    "else:\n",
    "    a = False\n",
    "print(a)"
   ]
  },
  {
   "cell_type": "markdown",
   "metadata": {},
   "source": [
    "## if"
   ]
  },
  {
   "cell_type": "code",
   "execution_count": 35,
   "metadata": {},
   "outputs": [
    {
     "name": "stdout",
     "output_type": "stream",
     "text": [
      "The value is invalid!!\n"
     ]
    }
   ],
   "source": [
    "age = 120\n",
    "if not 0 < age < 120:\n",
    "    print(\"The value is invalid!!\")"
   ]
  },
  {
   "cell_type": "code",
   "execution_count": 53,
   "metadata": {},
   "outputs": [
    {
     "name": "stdout",
     "output_type": "stream",
     "text": [
      "you don't have money!\n"
     ]
    }
   ],
   "source": [
    "balance = 300000\n",
    "withdraw = 2300000\n",
    "if balance > withdraw:\n",
    "    balance -= withdraw\n",
    "    print(\"your new balance is {}\".format(balance))\n",
    "else:\n",
    "    print('you don\\'t have money!')"
   ]
  },
  {
   "cell_type": "code",
   "execution_count": 56,
   "metadata": {},
   "outputs": [
    {
     "name": "stdout",
     "output_type": "stream",
     "text": [
      "you not draw!\n"
     ]
    }
   ],
   "source": [
    "balance = 300000\n",
    "withdraw = 1000000\n",
    "limit_withdraw = 1000000\n",
    "if withdraw > limit_withdraw:\n",
    "    print(\"the withdrawal is {}\".format(limit_withdraw))\n",
    "elif balance > withdraw:\n",
    "    balance = balance - withdraw\n",
    "    print(\"balance\")\n",
    "else:\n",
    "    print('you not draw!')"
   ]
  },
  {
   "cell_type": "markdown",
   "metadata": {},
   "source": [
    "## if文におけるNoneの取り扱い"
   ]
  },
  {
   "cell_type": "code",
   "execution_count": 58,
   "metadata": {},
   "outputs": [
    {
     "name": "stdout",
     "output_type": "stream",
     "text": [
      "a has value\n"
     ]
    }
   ],
   "source": [
    "a = 10\n",
    "if a is None:\n",
    "    print(\"a is None\")\n",
    "else:\n",
    "    print(\"a has value\")"
   ]
  },
  {
   "cell_type": "code",
   "execution_count": null,
   "metadata": {},
   "outputs": [],
   "source": [
    "if b:\n",
    "    print('a has value')\n",
    "    "
   ]
  },
  {
   "cell_type": "code",
   "execution_count": null,
   "metadata": {},
   "outputs": [],
   "source": [
    "print(\"あなたは{}歳です\".format(age))"
   ]
  },
  {
   "cell_type": "code",
   "execution_count": null,
   "metadata": {},
   "outputs": [],
   "source": [
    "casino_age = 18\n",
    "game_select = \"\"\"\n",
    "1: ルーレット\n",
    "2: ブラック・ジャック\n",
    "3: ポーカー\n",
    "\"\"\"\n",
    "age = int(input(\"何歳ですか？\"))\n",
    "if age >= casino_age:\n",
    "    print(\"please enter the casino\")\n",
    "    game_number = input(game_select)\n",
    "    if game_number == \"1\":\n",
    "        print(\"あなたが選んだゲームはルーレットです\")\n",
    "    elif game_number == \"2\":\n",
    "        print(\"あなたが選んだゲームはブラック・ジャックです\")\n",
    "    elif game_number == \"3\":\n",
    "        print(\"あなたが選んだゲームはポーカーです\"）\n",
    "    else:\n",
    "        print('1~3を入力してください')\n",
    "        \n",
    "else:\n",
    "    print(\"{}未満の方はカジノへは入れません\")"
   ]
  },
  {
   "cell_type": "code",
   "execution_count": null,
   "metadata": {},
   "outputs": [],
   "source": []
  },
  {
   "cell_type": "code",
   "execution_count": null,
   "metadata": {},
   "outputs": [],
   "source": []
  },
  {
   "cell_type": "code",
   "execution_count": null,
   "metadata": {},
   "outputs": [],
   "source": []
  }
 ],
 "metadata": {
  "kernelspec": {
   "display_name": "Python 3",
   "language": "python",
   "name": "python3"
  },
  "language_info": {
   "codemirror_mode": {
    "name": "ipython",
    "version": 3
   },
   "file_extension": ".py",
   "mimetype": "text/x-python",
   "name": "python",
   "nbconvert_exporter": "python",
   "pygments_lexer": "ipython3",
   "version": "3.7.6"
  }
 },
 "nbformat": 4,
 "nbformat_minor": 4
}
